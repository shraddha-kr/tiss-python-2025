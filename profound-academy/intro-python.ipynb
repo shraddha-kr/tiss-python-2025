{
 "cells": [
  {
   "cell_type": "markdown",
   "metadata": {},
   "source": [
    "1. Printing output in Python"
   ]
  },
  {
   "cell_type": "code",
   "execution_count": 4,
   "metadata": {},
   "outputs": [
    {
     "name": "stdout",
     "output_type": "stream",
     "text": [
      "Hi, I am starting to learn Python\n"
     ]
    }
   ],
   "source": [
    "print(\"Hi, I am starting to learn Python\")"
   ]
  },
  {
   "cell_type": "markdown",
   "metadata": {},
   "source": [
    "2. Printing several values"
   ]
  },
  {
   "cell_type": "code",
   "execution_count": 3,
   "metadata": {},
   "outputs": [
    {
     "name": "stdout",
     "output_type": "stream",
     "text": [
      "1 2 4 8 16 32 are powers of two\n"
     ]
    }
   ],
   "source": [
    "print(1, 2, 4, 8, 16, 32, \"are powers of two\")"
   ]
  },
  {
   "cell_type": "markdown",
   "metadata": {},
   "source": [
    "3. Several Print Statements"
   ]
  },
  {
   "cell_type": "code",
   "execution_count": 2,
   "metadata": {},
   "outputs": [
    {
     "name": "stdout",
     "output_type": "stream",
     "text": [
      "Bob is 19 years old.\n",
      "Alice is older than Bob.\n"
     ]
    }
   ],
   "source": [
    "print(\"Bob is 19 years old.\")\n",
    "print(\"Alice is older than Bob.\")"
   ]
  },
  {
   "cell_type": "markdown",
   "metadata": {},
   "source": [
    "4. Powers on new lines"
   ]
  },
  {
   "cell_type": "code",
   "execution_count": 1,
   "metadata": {},
   "outputs": [
    {
     "name": "stdout",
     "output_type": "stream",
     "text": [
      "These are the powers of two:\n",
      "(1, 2, 4, 8)\n",
      "(16, 32, 64)\n",
      "(128, 256, 512)\n",
      "(1024, 2048, 4096, 8192)\n"
     ]
    }
   ],
   "source": [
    "print(\"These are the powers of two:\")\n",
    "print(\"(1, 2, 4, 8)\")\n",
    "print(\"(16, 32, 64)\")\n",
    "print(\"(128, 256, 512)\")\n",
    "print(\"(1024, 2048, 4096, 8192)\")"
   ]
  },
  {
   "cell_type": "markdown",
   "metadata": {},
   "source": [
    "5. Printing computer screen"
   ]
  },
  {
   "cell_type": "code",
   "execution_count": null,
   "metadata": {},
   "outputs": [],
   "source": [
    "print(18*'*')\n",
    "print(1*'*', 14*(' '), 1*'*')\n",
    "print(1*'*', 14*(' '), 1*'*')\n",
    "print(1*'*', 14*(' '), 1*'*')\n",
    "print(18*'*')"
   ]
  },
  {
   "cell_type": "markdown",
   "metadata": {},
   "source": [
    "6. 2 D Mountains"
   ]
  },
  {
   "cell_type": "code",
   "execution_count": 19,
   "metadata": {},
   "outputs": [
    {
     "name": "stdout",
     "output_type": "stream",
     "text": [
      "      *\n",
      "     ***\n",
      "    ******    *\n",
      "   ********  ***\n",
      "  ****************\n",
      " ******************\n",
      "********************\n"
     ]
    }
   ],
   "source": [
    "print('     ', 1*'*')\n",
    "print('    ', 3*'*')\n",
    "print('   ', 6*'*', '  ', 1*'*')\n",
    "print('  ', 8*'*', '', 3*'*')\n",
    "print(' ', 16*'*')\n",
    "print('', 18*'*')\n",
    "print(20*'*')"
   ]
  },
  {
   "cell_type": "markdown",
   "metadata": {},
   "source": [
    "7. input()"
   ]
  },
  {
   "cell_type": "code",
   "execution_count": 20,
   "metadata": {},
   "outputs": [
    {
     "name": "stdout",
     "output_type": "stream",
     "text": [
      "Hello, India\n"
     ]
    }
   ],
   "source": [
    "name = input()\n",
    "print('Hello,', name)"
   ]
  },
  {
   "cell_type": "markdown",
   "metadata": {},
   "source": [
    "8. Football Clubs"
   ]
  },
  {
   "cell_type": "code",
   "execution_count": 23,
   "metadata": {},
   "outputs": [
    {
     "name": "stdout",
     "output_type": "stream",
     "text": [
      "India is awesome!\n"
     ]
    }
   ],
   "source": [
    "team = input()\n",
    "print(team, 'is awesome!')"
   ]
  },
  {
   "cell_type": "markdown",
   "metadata": {},
   "source": [
    "9. Several Inputs"
   ]
  },
  {
   "cell_type": "code",
   "execution_count": 22,
   "metadata": {},
   "outputs": [
    {
     "name": "stdout",
     "output_type": "stream",
     "text": [
      "1 2 3\n"
     ]
    }
   ],
   "source": [
    "inputstr1 = input()\n",
    "inputstr2 = input()\n",
    "inputstr3 = input()\n",
    "print(inputstr1, inputstr2, inputstr3)"
   ]
  },
  {
   "cell_type": "markdown",
   "metadata": {},
   "source": [
    "10. Reversing the Order"
   ]
  },
  {
   "cell_type": "code",
   "execution_count": 24,
   "metadata": {},
   "outputs": [
    {
     "name": "stdout",
     "output_type": "stream",
     "text": [
      "Bob\n",
      "John\n",
      "Edward\n",
      "Martin\n"
     ]
    }
   ],
   "source": [
    "in1 = input()\n",
    "in2 = input()\n",
    "in3 = input()\n",
    "in4 = input()\n",
    "print(in4)\n",
    "print(in3)\n",
    "print(in2)\n",
    "print(in1)"
   ]
  },
  {
   "cell_type": "markdown",
   "metadata": {},
   "source": [
    "11. Advanced printing - sep"
   ]
  },
  {
   "cell_type": "code",
   "execution_count": 25,
   "metadata": {},
   "outputs": [
    {
     "name": "stdout",
     "output_type": "stream",
     "text": [
      "2015-11-8\n"
     ]
    }
   ],
   "source": [
    "year = input()\n",
    "month = input()\n",
    "day = input()\n",
    "\n",
    "print(year, month, day, sep='-')"
   ]
  },
  {
   "cell_type": "markdown",
   "metadata": {},
   "source": [
    "12. Advanced printing - end"
   ]
  },
  {
   "cell_type": "code",
   "execution_count": 26,
   "metadata": {},
   "outputs": [
    {
     "name": "stdout",
     "output_type": "stream",
     "text": [
      "January*-*February*-*March*-*April*-*May*-*June*-*July*-*August*-*September*-*October*-*November*-*December\n"
     ]
    }
   ],
   "source": [
    "print(\"January\", end='*-*')\n",
    "print(\"February\", end='*-*')\n",
    "print(\"March\", end='*-*')\n",
    "print(\"April\", end='*-*')\n",
    "print(\"May\", end='*-*')\n",
    "print(\"June\", end='*-*')\n",
    "print(\"July\", end='*-*')\n",
    "print(\"August\", end='*-*')\n",
    "print(\"September\", end='*-*')\n",
    "print(\"October\", end='*-*')\n",
    "print(\"November\", end='*-*')\n",
    "print(\"December\")"
   ]
  },
  {
   "cell_type": "markdown",
   "metadata": {},
   "source": [
    "13. Advanced printing"
   ]
  },
  {
   "cell_type": "code",
   "execution_count": 27,
   "metadata": {},
   "outputs": [
    {
     "name": "stdout",
     "output_type": "stream",
     "text": [
      "Sunday%%Tuesday%%Thursday...Saturday$_$Monday$_$Wednesday$_$Friday\n"
     ]
    }
   ],
   "source": [
    "print(\"Sunday\", \"Tuesday\", \"Thursday\", sep='%%', end='...')\n",
    "print(\"Saturday\", \"Monday\", \"Wednesday\", \"Friday\", sep='$_$')"
   ]
  },
  {
   "cell_type": "markdown",
   "metadata": {},
   "source": [
    "14. Variable sep"
   ]
  },
  {
   "cell_type": "code",
   "execution_count": 29,
   "metadata": {},
   "outputs": [
    {
     "name": "stdout",
     "output_type": "stream",
     "text": [
      "January%%February%%March%%April%%May%%June%%July%%August%%September%%October%%November%%December\n"
     ]
    }
   ],
   "source": [
    "instr = input()\n",
    "print(\"January\", \"February\", \"March\", \"April\", \"May\", \"June\", \"July\",\n",
    "      \"August\", \"September\", \"October\", \"November\", \"December\", sep=instr)"
   ]
  },
  {
   "cell_type": "markdown",
   "metadata": {},
   "source": [
    "15. Variable sep and end"
   ]
  },
  {
   "cell_type": "code",
   "execution_count": 31,
   "metadata": {},
   "outputs": [
    {
     "name": "stdout",
     "output_type": "stream",
     "text": [
      "One%Two%Three&"
     ]
    }
   ],
   "source": [
    "inp1 = input()\n",
    "inp2 = input()\n",
    "inp3 = input()\n",
    "sep4 = input()\n",
    "end5 = input()\n",
    "\n",
    "print(inp1, inp2, inp3, sep=sep4, end=end5)"
   ]
  },
  {
   "cell_type": "markdown",
   "metadata": {},
   "source": [
    "16. Comments"
   ]
  },
  {
   "cell_type": "code",
   "execution_count": 32,
   "metadata": {},
   "outputs": [
    {
     "name": "stdout",
     "output_type": "stream",
     "text": [
      "Monday\n",
      "Tuesday\n",
      "Wednesday\n",
      "Thursday\n",
      "Friday\n",
      "Saturday\n",
      "Sunday\n"
     ]
    }
   ],
   "source": [
    "# Days of the week\n",
    "print(\"Monday\")  # Monday - 1\n",
    "print(\"Tuesday\") # Tuesday - 2\n",
    "print(\"Wednesday\") # Wednesday - 3\n",
    "print(\"Thursday\") # Thursday - 4\n",
    "print(\"Friday\") # Friday - 5\n",
    "print(\"Saturday\") # Saturday - 6\n",
    "print(\"Sunday\") # Sunday - 7"
   ]
  },
  {
   "cell_type": "markdown",
   "metadata": {},
   "source": [
    "17. Easy Peasy"
   ]
  },
  {
   "cell_type": "code",
   "execution_count": 33,
   "metadata": {},
   "outputs": [
    {
     "name": "stdout",
     "output_type": "stream",
     "text": [
      "hello\n",
      "\n",
      "world!"
     ]
    }
   ],
   "source": [
    "print('hello')\n",
    "print()\n",
    "print('world', end='!')"
   ]
  },
  {
   "attachments": {
    "image.png": {
     "image/png": "[encoded data removed]"
    }
   },
   "cell_type": "markdown",
   "metadata": {},
   "source": [
    "18. ASCII name printing\n",
    "\n",
    "![image.png](attachment:image.png)"
   ]
  },
  {
   "cell_type": "code",
   "execution_count": 45,
   "metadata": {},
   "outputs": [
    {
     "name": "stdout",
     "output_type": "stream",
     "text": [
      " AA  EEEE\n",
      "A  A E\n",
      "AAAA EEE\n",
      "A  A E\n",
      "A  A EEEE\n"
     ]
    }
   ],
   "source": [
    "print(\"\",2*\"A\",\"\", 4*\"E\")\n",
    "print(\"A\", 2*\"\", \"A\", 1*\"E\")\n",
    "print(4*\"A\", 3*\"E\")\n",
    "print(\"A\", 2*\"\", \"A\",1*\"E\")\n",
    "print(\"A\", 2*\"\", \"A\",4*\"E\")"
   ]
  },
  {
   "cell_type": "markdown",
   "metadata": {},
   "source": [
    "19. Shopping"
   ]
  },
  {
   "cell_type": "code",
   "execution_count": 2,
   "metadata": {},
   "outputs": [
    {
     "name": "stdout",
     "output_type": "stream",
     "text": [
      "Nike, Puma, Adidas, Scketers, Campus\n",
      "Final price: 500\n"
     ]
    }
   ],
   "source": [
    "# All inputs are stored as string unless explicitly converted wh storing in a variable\n",
    "inp1 = input()\n",
    "amt1 = input()\n",
    "inp2 = input()\n",
    "amt2 = input()\n",
    "inp3 = input()\n",
    "amt3 = input()\n",
    "inp4 = input()\n",
    "amt4 = input()\n",
    "inp5 = input()\n",
    "amt5 = input()\n",
    "\n",
    "print(inp1, inp2, inp3, inp4, inp5, sep=', ')\n",
    "price = int(amt1) + int(amt2) + int(amt3) + int(amt4) + int(amt5)\n",
    "print(\"Final price:\", price)"
   ]
  },
  {
   "cell_type": "markdown",
   "metadata": {},
   "source": [
    "20. Variables in Python"
   ]
  },
  {
   "cell_type": "code",
   "execution_count": 3,
   "metadata": {},
   "outputs": [
    {
     "name": "stdout",
     "output_type": "stream",
     "text": [
      "-500\n"
     ]
    }
   ],
   "source": [
    "x = -20\n",
    "y = 30\n",
    "z = 100\n",
    "print(x * y + z)"
   ]
  },
  {
   "cell_type": "markdown",
   "metadata": {},
   "source": [
    "21. Variable Naming"
   ]
  },
  {
   "cell_type": "code",
   "execution_count": 4,
   "metadata": {},
   "outputs": [
    {
     "name": "stdout",
     "output_type": "stream",
     "text": [
      "The best month of the year is: July\n",
      "I changed my mind, the best month is actually: March\n"
     ]
    }
   ],
   "source": [
    "best_month = 'July'\n",
    "print('The best month of the year is:', best_month)\n",
    "best_month = 'March'\n",
    "print('I changed my mind, the best month is actually:', best_month)"
   ]
  },
  {
   "cell_type": "markdown",
   "metadata": {},
   "source": [
    "22. Input integers"
   ]
  },
  {
   "cell_type": "code",
   "execution_count": 1,
   "metadata": {},
   "outputs": [
    {
     "name": "stdout",
     "output_type": "stream",
     "text": [
      "The number you have entered is: 10\n"
     ]
    }
   ],
   "source": [
    "inp1 = int(input())\n",
    "print('The number you have entered is:', inp1)"
   ]
  },
  {
   "cell_type": "markdown",
   "metadata": {},
   "source": [
    "23. Arithmetic Operations"
   ]
  },
  {
   "cell_type": "code",
   "execution_count": 2,
   "metadata": {},
   "outputs": [
    {
     "name": "stdout",
     "output_type": "stream",
     "text": [
      "9 10 11\n"
     ]
    }
   ],
   "source": [
    "inp1 = int(input())\n",
    "print(inp1-1, inp1, inp1+1)"
   ]
  },
  {
   "cell_type": "markdown",
   "metadata": {},
   "source": [
    "24. Arithmetic operations with several numbers"
   ]
  },
  {
   "cell_type": "code",
   "execution_count": 3,
   "metadata": {},
   "outputs": [
    {
     "name": "stdout",
     "output_type": "stream",
     "text": [
      "30\n"
     ]
    }
   ],
   "source": [
    "inp1 = int(input())\n",
    "inp2 = int(input())\n",
    "inp3 = int(input())\n",
    "\n",
    "print(inp1 + inp2 + inp3)"
   ]
  },
  {
   "cell_type": "markdown",
   "metadata": {},
   "source": [
    "25. Line Equation"
   ]
  },
  {
   "cell_type": "code",
   "execution_count": 4,
   "metadata": {},
   "outputs": [
    {
     "name": "stdout",
     "output_type": "stream",
     "text": [
      "5\n"
     ]
    }
   ],
   "source": [
    "k = int(input())\n",
    "x = int(input())\n",
    "b = int(input())\n",
    "\n",
    "print(k*x + b)"
   ]
  },
  {
   "cell_type": "markdown",
   "metadata": {},
   "source": []
  }
 ],
 "metadata": {
  "kernelspec": {
   "display_name": "Python 3",
   "language": "python",
   "name": "python3"
  },
  "language_info": {
   "codemirror_mode": {
    "name": "ipython",
    "version": 3
   },
   "file_extension": ".py",
   "mimetype": "text/x-python",
   "name": "python",
   "nbconvert_exporter": "python",
   "pygments_lexer": "ipython3",
   "version": "3.10.10"
  }
 },
 "nbformat": 4,
 "nbformat_minor": 2
}
