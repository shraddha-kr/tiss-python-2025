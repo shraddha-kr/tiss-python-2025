{
 "cells": [
  {
   "cell_type": "markdown",
   "metadata": {},
   "source": [
    "1. Printing output in Python"
   ]
  },
  {
   "cell_type": "code",
   "execution_count": 4,
   "metadata": {},
   "outputs": [
    {
     "name": "stdout",
     "output_type": "stream",
     "text": [
      "Hi, I am starting to learn Python\n"
     ]
    }
   ],
   "source": [
    "print(\"Hi, I am starting to learn Python\")"
   ]
  },
  {
   "cell_type": "markdown",
   "metadata": {},
   "source": [
    "2. Printing several values"
   ]
  },
  {
   "cell_type": "code",
   "execution_count": 3,
   "metadata": {},
   "outputs": [
    {
     "name": "stdout",
     "output_type": "stream",
     "text": [
      "1 2 4 8 16 32 are powers of two\n"
     ]
    }
   ],
   "source": [
    "print(1, 2, 4, 8, 16, 32, \"are powers of two\")"
   ]
  },
  {
   "cell_type": "markdown",
   "metadata": {},
   "source": [
    "3. Several Print Statements"
   ]
  },
  {
   "cell_type": "code",
   "execution_count": 2,
   "metadata": {},
   "outputs": [
    {
     "name": "stdout",
     "output_type": "stream",
     "text": [
      "Bob is 19 years old.\n",
      "Alice is older than Bob.\n"
     ]
    }
   ],
   "source": [
    "print(\"Bob is 19 years old.\")\n",
    "print(\"Alice is older than Bob.\")"
   ]
  },
  {
   "cell_type": "markdown",
   "metadata": {},
   "source": [
    "4. Powers on new lines"
   ]
  },
  {
   "cell_type": "code",
   "execution_count": 1,
   "metadata": {},
   "outputs": [
    {
     "name": "stdout",
     "output_type": "stream",
     "text": [
      "These are the powers of two:\n",
      "(1, 2, 4, 8)\n",
      "(16, 32, 64)\n",
      "(128, 256, 512)\n",
      "(1024, 2048, 4096, 8192)\n"
     ]
    }
   ],
   "source": [
    "print(\"These are the powers of two:\")\n",
    "print(\"(1, 2, 4, 8)\")\n",
    "print(\"(16, 32, 64)\")\n",
    "print(\"(128, 256, 512)\")\n",
    "print(\"(1024, 2048, 4096, 8192)\")"
   ]
  },
  {
   "cell_type": "markdown",
   "metadata": {},
   "source": [
    "5. Printing computer screen"
   ]
  },
  {
   "cell_type": "code",
   "execution_count": null,
   "metadata": {},
   "outputs": [],
   "source": [
    "print(18*'*')\n",
    "print(1*'*', 14*(' '), 1*'*')\n",
    "print(1*'*', 14*(' '), 1*'*')\n",
    "print(1*'*', 14*(' '), 1*'*')\n",
    "print(18*'*')"
   ]
  },
  {
   "cell_type": "markdown",
   "metadata": {},
   "source": []
  }
 ],
 "metadata": {
  "kernelspec": {
   "display_name": "Python 3",
   "language": "python",
   "name": "python3"
  },
  "language_info": {
   "codemirror_mode": {
    "name": "ipython",
    "version": 3
   },
   "file_extension": ".py",
   "mimetype": "text/x-python",
   "name": "python",
   "nbconvert_exporter": "python",
   "pygments_lexer": "ipython3",
   "version": "3.10.10"
  }
 },
 "nbformat": 4,
 "nbformat_minor": 2
}
