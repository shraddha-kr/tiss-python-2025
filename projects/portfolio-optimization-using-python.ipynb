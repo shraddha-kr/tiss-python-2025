{
 "cells": [
  {
   "cell_type": "markdown",
   "metadata": {},
   "source": [
    "**PORTFOLIO OPTIMIZATION**"
   ]
  },
  {
   "cell_type": "markdown",
   "metadata": {},
   "source": [
    "The task of optimizing assets involves balancing the trade-offs between risks and returns, where return on a stock is the profits realised after a period of time and risk is the variance in an asset's value.\n",
    "Many of the available methods of portfolio optimization are essentially extensions of diversification methods for assets in investing. The idea here is that having a portfolio of different types of assets is less risky than having ones that are similar.\n",
    "\n",
    "\n",
    "One of the early methods is called **mean variance optimization**, which was developed by Hary Markowitz, is also called the **Markowitz Method or the HM method**. The method works by assuming investors are risk averse. It selects a set of assets that are least correlated, i.e. different from each other and that generate the highest returns. This approach means that, given a set of portfolios with the same returns, you will select the portfolio with assets that have the least statistical relationship to one another.\n",
    "\n",
    "\n",
    "For example, instaead of selecting a portfolio of tech company stocks, you should pick a portfolio with stocks across disparate industries. In practice, the mean variance optimization algorithm may select a portfolio containing assets in tech, retail, healthcare and real estate instead of a single industry like tech.\n",
    "Although this is a fundamental approach in modern portfolio theory, it has many limitations such as assuming that historical returns completely reflect future retruns. Mean variance optimization may naively suggest we disproportionately invest most of our resources in an asset that has an anomalous increase in price.\n"
   ]
  },
  {
   "cell_type": "markdown",
   "metadata": {},
   "source": [
    "The python package **PyPortfolioOpt** provides a wide variety of features that make implementing all these methods straightforward. \n",
    "Portfolio optimization methods in Pthon\n",
    "* Mean Variance Optimization\n",
    "* Hierarchical Risk Parity (HRP)\n",
    "* Mean Conditional Value at RIsk (mCVAR)"
   ]
  },
  {
   "cell_type": "code",
   "execution_count": null,
   "metadata": {},
   "outputs": [],
   "source": [
    "# imports\n",
    "import pandas_datareader.data as web\n",
    "import datetime\n",
    "import pandas as pd"
   ]
  }
 ],
 "metadata": {
  "kernelspec": {
   "display_name": "Python 3",
   "language": "python",
   "name": "python3"
  },
  "language_info": {
   "codemirror_mode": {
    "name": "ipython",
    "version": 3
   },
   "file_extension": ".py",
   "mimetype": "text/x-python",
   "name": "python",
   "nbconvert_exporter": "python",
   "pygments_lexer": "ipython3",
   "version": "3.10.10"
  }
 },
 "nbformat": 4,
 "nbformat_minor": 2
}
